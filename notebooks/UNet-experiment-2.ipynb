{
 "cells": [
  {
   "cell_type": "markdown",
   "metadata": {},
   "source": [
    "NOTE: Make sure to run the script pickle_full_wildfire_data.py to pickle the full 64 x 64 data. The pickled numpy arrays will be used by the Dataset objects to load in the actual data."
   ]
  },
  {
   "cell_type": "code",
   "execution_count": 1,
   "metadata": {},
   "outputs": [],
   "source": [
    "import random\n",
    "import torch\n",
    "from torch.utils.data import Dataset, IterableDataset, DataLoader\n",
    "import pickle\n",
    "import numpy as np\n",
    "import torchvision\n",
    "from typing import Tuple\n",
    "import matplotlib.pyplot as plt\n",
    "from matplotlib import colors"
   ]
  },
  {
   "cell_type": "markdown",
   "metadata": {},
   "source": [
    "# The PyTorch Datasets"
   ]
  },
  {
   "cell_type": "code",
   "execution_count": 2,
   "metadata": {},
   "outputs": [],
   "source": [
    "def unpickle(f):\n",
    "    with open(f, 'rb') as fo:\n",
    "        data = pickle.load(fo, encoding='bytes')\n",
    "    return data\n",
    "\n",
    "\n",
    "def new_random_crop(labels, new_crop_size):\n",
    "    crop_map = create_crop_map(len(labels), new_crop_size)\n",
    "    good_indices = find_good_samples(labels, crop_map, new_crop_size)\n",
    "    return crop_map, good_indices\n",
    "\n",
    "\n",
    "def create_crop_map(data_size, crop_size):\n",
    "    # The crop map assigns an x_shift and y_shift to each sample in the main 64 x 64 dataset.\n",
    "    crop_map = []\n",
    "    for i in range(data_size):\n",
    "        # random.randint returns beginning <= n <= end, hence the minus 1.\n",
    "        x_shift = random.randint(0, 64 - crop_size - 1)\n",
    "        y_shift = random.randint(0, 64 - crop_size - 1)\n",
    "        crop_map.append((x_shift, y_shift))\n",
    "    return np.array(crop_map)\n",
    "\n",
    "\n",
    "def get_cropped_sample(index, crop_map, crop_size, data, labels):\n",
    "    x_shift, y_shift = crop_map[index]\n",
    "    cropped_features = data[index, :, x_shift : x_shift + crop_size, y_shift : y_shift + crop_size]\n",
    "    cropped_label = labels[index, x_shift : x_shift + crop_size, y_shift : y_shift + crop_size]\n",
    "        \n",
    "    return cropped_features, cropped_label\n",
    "\n",
    "\n",
    "def find_good_samples(labels, crop_map, crop_size):\n",
    "    # Finds the indices of samples that have no missing data in their labels.\n",
    "    # This is determined AFTER generating a crop map and applying the crop to the original 64 x 64 label.\n",
    "    good_indices = []\n",
    "    for i in range(len(labels)):\n",
    "        x_shift, y_shift = crop_map[i]\n",
    "        if np.all(np.invert(labels[i, x_shift : x_shift + crop_size, y_shift : y_shift + crop_size] == -1)):\n",
    "            good_indices.append(i)\n",
    "    return np.array(good_indices)\n",
    "\n",
    "\n",
    "class WildfireDataset(torch.utils.data.Dataset):\n",
    "    def __init__(self, data_filename, labels_filename):\n",
    "        self.data, self.labels = unpickle(data_filename), unpickle(labels_filename)\n",
    "        self.crop_size = 32\n",
    "        random.seed(1)\n",
    "        self.crop_map, self.good_indices = new_random_crop(self.labels, self.crop_size)\n",
    "        \n",
    "        print(f\"data size: {self.data.nbytes}\")\n",
    "        print(f\"label size: {self.labels.nbytes}\")\n",
    "        print(f\"crop_map size: {self.crop_map.nbytes}\")\n",
    "        print(f\"good_indices size: {self.good_indices.nbytes}\")\n",
    "        print(f\"total size: {self.data.nbytes + self.labels.nbytes + self.crop_map.nbytes + self.good_indices.nbytes}\")\n",
    "        print(\"finished initializing\")\n",
    "        \n",
    "    def __len__(self):\n",
    "        return len(self.good_indices)\n",
    "\n",
    "    def __getitem__(self, index):\n",
    "        if torch.is_tensor(index):\n",
    "            index = index.tolist()\n",
    "            \n",
    "        index = self.good_indices[index]\n",
    "        \n",
    "        cropped_features, cropped_label = get_cropped_sample(index, self.crop_map, self.crop_size, self.data, self.labels)\n",
    "        \n",
    "        # Only keep elevation and previous fire mask\n",
    "        cropped_features = cropped_features[[0, 11], :, :]\n",
    "\n",
    "        sample = (torch.from_numpy(cropped_features), torch.from_numpy(np.expand_dims(cropped_label, axis=0)))\n",
    "\n",
    "        return sample"
   ]
  },
  {
   "cell_type": "code",
   "execution_count": 3,
   "metadata": {
    "scrolled": true,
    "tags": []
   },
   "outputs": [
    {
     "name": "stdout",
     "output_type": "stream",
     "text": [
      "data size: 332070912\n",
      "label size: 27672576\n",
      "crop_map size: 27024\n",
      "good_indices size: 11024\n",
      "total size: 359781536\n",
      "finished initializing\n",
      "14\n",
      "1378\n"
     ]
    }
   ],
   "source": [
    "TEST_DATA_FILENAME = '../data/next-day-wildfire-spread/test.data'\n",
    "TEST_LABELS_FILENAME = '../data/next-day-wildfire-spread/test.labels'\n",
    "\n",
    "test_dataset = WildfireDataset(TEST_DATA_FILENAME, TEST_LABELS_FILENAME)\n",
    "test_loader = DataLoader(test_dataset, batch_size=100, shuffle=False, num_workers=2)\n",
    "\n",
    "print(len(test_loader))\n",
    "print(len(test_dataset))"
   ]
  },
  {
   "cell_type": "markdown",
   "metadata": {},
   "source": [
    "# The Neural Networks"
   ]
  },
  {
   "cell_type": "code",
   "execution_count": 4,
   "metadata": {},
   "outputs": [],
   "source": [
    "# Code from: https://github.com/milesial/Pytorch-UNet\n",
    "\n",
    "\n",
    "\"\"\" Parts of the U-Net model \"\"\"\n",
    "\n",
    "import torch\n",
    "import torch.nn as nn\n",
    "import torch.nn.functional as F\n",
    "\n",
    "\n",
    "class DoubleConv(nn.Module):\n",
    "    \"\"\"(convolution => [BN] => ReLU) * 2\"\"\"\n",
    "\n",
    "    def __init__(self, in_channels, out_channels, mid_channels=None):\n",
    "        super().__init__()\n",
    "        if not mid_channels:\n",
    "            mid_channels = out_channels\n",
    "        self.double_conv = nn.Sequential(\n",
    "            nn.Conv2d(in_channels, mid_channels, kernel_size=3, padding=1, bias=False),\n",
    "            nn.BatchNorm2d(mid_channels),\n",
    "            nn.ReLU(inplace=True),\n",
    "            nn.Conv2d(mid_channels, out_channels, kernel_size=3, padding=1, bias=False),\n",
    "            nn.BatchNorm2d(out_channels),\n",
    "            nn.ReLU(inplace=True)\n",
    "        )\n",
    "\n",
    "    def forward(self, x):\n",
    "        return self.double_conv(x)\n",
    "\n",
    "\n",
    "class Down(nn.Module):\n",
    "    \"\"\"Downscaling with maxpool then double conv\"\"\"\n",
    "\n",
    "    def __init__(self, in_channels, out_channels):\n",
    "        super().__init__()\n",
    "        self.maxpool_conv = nn.Sequential(\n",
    "            nn.MaxPool2d(2),\n",
    "            DoubleConv(in_channels, out_channels)\n",
    "        )\n",
    "\n",
    "    def forward(self, x):\n",
    "        return self.maxpool_conv(x)\n",
    "\n",
    "\n",
    "class Up(nn.Module):\n",
    "    \"\"\"Upscaling then double conv\"\"\"\n",
    "\n",
    "    def __init__(self, in_channels, out_channels, bilinear=True):\n",
    "        super().__init__()\n",
    "\n",
    "        # if bilinear, use the normal convolutions to reduce the number of channels\n",
    "        if bilinear:\n",
    "            self.up = nn.Upsample(scale_factor=2, mode='bilinear', align_corners=True)\n",
    "            self.conv = DoubleConv(in_channels, out_channels, in_channels // 2)\n",
    "        else:\n",
    "            self.up = nn.ConvTranspose2d(in_channels, in_channels // 2, kernel_size=2, stride=2)\n",
    "            self.conv = DoubleConv(in_channels, out_channels)\n",
    "\n",
    "    def forward(self, x1, x2):\n",
    "        x1 = self.up(x1)\n",
    "        # input is CHW\n",
    "        diffY = x2.size()[2] - x1.size()[2]\n",
    "        diffX = x2.size()[3] - x1.size()[3]\n",
    "\n",
    "        x1 = F.pad(x1, [diffX // 2, diffX - diffX // 2,\n",
    "                        diffY // 2, diffY - diffY // 2])\n",
    "        # if you have padding issues, see\n",
    "        # https://github.com/HaiyongJiang/U-Net-Pytorch-Unstructured-Buggy/commit/0e854509c2cea854e247a9c615f175f76fbb2e3a\n",
    "        # https://github.com/xiaopeng-liao/Pytorch-UNet/commit/8ebac70e633bac59fc22bb5195e513d5832fb3bd\n",
    "        x = torch.cat([x2, x1], dim=1)\n",
    "        return self.conv(x)\n",
    "\n",
    "\n",
    "class OutConv(nn.Module):\n",
    "    def __init__(self, in_channels, out_channels):\n",
    "        super(OutConv, self).__init__()\n",
    "        self.conv = nn.Conv2d(in_channels, out_channels, kernel_size=1)\n",
    "\n",
    "    def forward(self, x):\n",
    "        return self.conv(x)\n",
    "\n",
    "\n",
    " \n",
    "\n",
    "\"\"\" Full assembly of the parts to form the complete network \"\"\"\n",
    "\n",
    "\n",
    "class UNet(nn.Module):\n",
    "    def __init__(self, n_channels, n_classes, bilinear=False):\n",
    "        super(UNet, self).__init__()\n",
    "        self.n_channels = n_channels\n",
    "        self.n_classes = n_classes\n",
    "        self.bilinear = bilinear\n",
    "\n",
    "        self.inc = (DoubleConv(n_channels, 64))\n",
    "        self.down1 = (Down(64, 128))\n",
    "        self.down2 = (Down(128, 256))\n",
    "        self.down3 = (Down(256, 512))\n",
    "        factor = 2 if bilinear else 1\n",
    "        self.down4 = (Down(512, 1024 // factor))\n",
    "        self.up1 = (Up(1024, 512 // factor, bilinear))\n",
    "        self.up2 = (Up(512, 256 // factor, bilinear))\n",
    "        self.up3 = (Up(256, 128 // factor, bilinear))\n",
    "        self.up4 = (Up(128, 64, bilinear))\n",
    "        self.outc = (OutConv(64, n_classes))\n",
    "\n",
    "    def forward(self, x):\n",
    "        x1 = self.inc(x)\n",
    "        x2 = self.down1(x1)\n",
    "        x3 = self.down2(x2)\n",
    "        x4 = self.down3(x3)\n",
    "        x5 = self.down4(x4)\n",
    "        x = self.up1(x5, x4)\n",
    "        x = self.up2(x, x3)\n",
    "        x = self.up3(x, x2)\n",
    "        x = self.up4(x, x1)\n",
    "        logits = self.outc(x)\n",
    "        return logits\n",
    "\n",
    "    def use_checkpointing(self):\n",
    "        self.inc = torch.utils.checkpoint(self.inc)\n",
    "        self.down1 = torch.utils.checkpoint(self.down1)\n",
    "        self.down2 = torch.utils.checkpoint(self.down2)\n",
    "        self.down3 = torch.utils.checkpoint(self.down3)\n",
    "        self.down4 = torch.utils.checkpoint(self.down4)\n",
    "        self.up1 = torch.utils.checkpoint(self.up1)\n",
    "        self.up2 = torch.utils.checkpoint(self.up2)\n",
    "        self.up3 = torch.utils.checkpoint(self.up3)\n",
    "        self.up4 = torch.utils.checkpoint(self.up4)\n",
    "        self.outc = torch.utils.checkpoint(self.outc)"
   ]
  },
  {
   "cell_type": "markdown",
   "metadata": {},
   "source": [
    "# UNet Experiment 2 Discussion and Results\n",
    "\n",
    "* Features used: Elevation and previous fire mask\n",
    "* Model: UNet(2, 1, True)\n",
    "* Batch size: 100\n",
    "* Epochs: 100\n",
    "* optimizer: torch.optim.RMSprop(model.parameters(), lr=0.001, momentum=0.9)\n",
    "* criterion: nn.BCEWithLogitsLoss(pos_weight=torch.Tensor([75])).cuda(gpu)\n",
    "* Dataset: normal WildfireDataset\n",
    "\n",
    "Same as experiment 1, but with a weight for the fire class in the pos_weight parameter for BCEWithLogitsLoss and using the normal WildfireDataset with no augmentation for the training. Accuracy started off low which indicated that it was predicting a lot of fire. The validation accuracy began to increase but so did the validation loss, which means that it was likely overfitting and sacrificing precision on the fire class for better classification of 'no fire' pixels. \n",
    "\n",
    "The same BCEWithLogitsLoss function with a weight of 75 for the fire class was used to calculate the loss for the validation. This might be a mistake, and instead we should just regular BCE for the validation. Using a weight like this with BCE is not ideal since you need to fine tune it manually. Perhaps other loss functions, like dice loss, could do well here. \n",
    "\n",
    "I also thought that it might be better to save models based on precision and recall scores for the fire class instead of loss, since that is what we are really after.\n",
    "\n",
    "Another thing I've noticed about the UNet model is it eventually gets a good fit for the training dataset, but it quickly struggles to generalize well to the validation dataset. This could be an indication that the datasets aren't sufficient enough to properly train and evaluate the models, or maybe the first experiment and this experiment aren't using enough features.\n",
    "\n",
    "The BCE with the weight of 75 dramatically increased the recall, but ruined the precision by guessing fire so much more often to counteract the weighted loss for fire pixels, perhaps 75 is too high of a weight to use. 75 was calculated by finding the ratio of fire pixels to no fire pixels in the main 64 x 64 dataset, which turned out to be approximately 79 no fire pixels for every fire pixel. Maybe training the model for longer until it can achieve a higher accuracy could work, but it seems like it had a hard time breaking 90% even after 100 epochs. So it's balancing act between finding a reasonable number of epochs and a good BCE weight for the fire class.\n"
   ]
  },
  {
   "cell_type": "markdown",
   "metadata": {},
   "source": [
    "# Loading in the model"
   ]
  },
  {
   "cell_type": "code",
   "execution_count": 5,
   "metadata": {},
   "outputs": [
    {
     "data": {
      "text/plain": [
       "UNet(\n",
       "  (inc): DoubleConv(\n",
       "    (double_conv): Sequential(\n",
       "      (0): Conv2d(2, 64, kernel_size=(3, 3), stride=(1, 1), padding=(1, 1), bias=False)\n",
       "      (1): BatchNorm2d(64, eps=1e-05, momentum=0.1, affine=True, track_running_stats=True)\n",
       "      (2): ReLU(inplace=True)\n",
       "      (3): Conv2d(64, 64, kernel_size=(3, 3), stride=(1, 1), padding=(1, 1), bias=False)\n",
       "      (4): BatchNorm2d(64, eps=1e-05, momentum=0.1, affine=True, track_running_stats=True)\n",
       "      (5): ReLU(inplace=True)\n",
       "    )\n",
       "  )\n",
       "  (down1): Down(\n",
       "    (maxpool_conv): Sequential(\n",
       "      (0): MaxPool2d(kernel_size=2, stride=2, padding=0, dilation=1, ceil_mode=False)\n",
       "      (1): DoubleConv(\n",
       "        (double_conv): Sequential(\n",
       "          (0): Conv2d(64, 128, kernel_size=(3, 3), stride=(1, 1), padding=(1, 1), bias=False)\n",
       "          (1): BatchNorm2d(128, eps=1e-05, momentum=0.1, affine=True, track_running_stats=True)\n",
       "          (2): ReLU(inplace=True)\n",
       "          (3): Conv2d(128, 128, kernel_size=(3, 3), stride=(1, 1), padding=(1, 1), bias=False)\n",
       "          (4): BatchNorm2d(128, eps=1e-05, momentum=0.1, affine=True, track_running_stats=True)\n",
       "          (5): ReLU(inplace=True)\n",
       "        )\n",
       "      )\n",
       "    )\n",
       "  )\n",
       "  (down2): Down(\n",
       "    (maxpool_conv): Sequential(\n",
       "      (0): MaxPool2d(kernel_size=2, stride=2, padding=0, dilation=1, ceil_mode=False)\n",
       "      (1): DoubleConv(\n",
       "        (double_conv): Sequential(\n",
       "          (0): Conv2d(128, 256, kernel_size=(3, 3), stride=(1, 1), padding=(1, 1), bias=False)\n",
       "          (1): BatchNorm2d(256, eps=1e-05, momentum=0.1, affine=True, track_running_stats=True)\n",
       "          (2): ReLU(inplace=True)\n",
       "          (3): Conv2d(256, 256, kernel_size=(3, 3), stride=(1, 1), padding=(1, 1), bias=False)\n",
       "          (4): BatchNorm2d(256, eps=1e-05, momentum=0.1, affine=True, track_running_stats=True)\n",
       "          (5): ReLU(inplace=True)\n",
       "        )\n",
       "      )\n",
       "    )\n",
       "  )\n",
       "  (down3): Down(\n",
       "    (maxpool_conv): Sequential(\n",
       "      (0): MaxPool2d(kernel_size=2, stride=2, padding=0, dilation=1, ceil_mode=False)\n",
       "      (1): DoubleConv(\n",
       "        (double_conv): Sequential(\n",
       "          (0): Conv2d(256, 512, kernel_size=(3, 3), stride=(1, 1), padding=(1, 1), bias=False)\n",
       "          (1): BatchNorm2d(512, eps=1e-05, momentum=0.1, affine=True, track_running_stats=True)\n",
       "          (2): ReLU(inplace=True)\n",
       "          (3): Conv2d(512, 512, kernel_size=(3, 3), stride=(1, 1), padding=(1, 1), bias=False)\n",
       "          (4): BatchNorm2d(512, eps=1e-05, momentum=0.1, affine=True, track_running_stats=True)\n",
       "          (5): ReLU(inplace=True)\n",
       "        )\n",
       "      )\n",
       "    )\n",
       "  )\n",
       "  (down4): Down(\n",
       "    (maxpool_conv): Sequential(\n",
       "      (0): MaxPool2d(kernel_size=2, stride=2, padding=0, dilation=1, ceil_mode=False)\n",
       "      (1): DoubleConv(\n",
       "        (double_conv): Sequential(\n",
       "          (0): Conv2d(512, 512, kernel_size=(3, 3), stride=(1, 1), padding=(1, 1), bias=False)\n",
       "          (1): BatchNorm2d(512, eps=1e-05, momentum=0.1, affine=True, track_running_stats=True)\n",
       "          (2): ReLU(inplace=True)\n",
       "          (3): Conv2d(512, 512, kernel_size=(3, 3), stride=(1, 1), padding=(1, 1), bias=False)\n",
       "          (4): BatchNorm2d(512, eps=1e-05, momentum=0.1, affine=True, track_running_stats=True)\n",
       "          (5): ReLU(inplace=True)\n",
       "        )\n",
       "      )\n",
       "    )\n",
       "  )\n",
       "  (up1): Up(\n",
       "    (up): Upsample(scale_factor=2.0, mode=bilinear)\n",
       "    (conv): DoubleConv(\n",
       "      (double_conv): Sequential(\n",
       "        (0): Conv2d(1024, 512, kernel_size=(3, 3), stride=(1, 1), padding=(1, 1), bias=False)\n",
       "        (1): BatchNorm2d(512, eps=1e-05, momentum=0.1, affine=True, track_running_stats=True)\n",
       "        (2): ReLU(inplace=True)\n",
       "        (3): Conv2d(512, 256, kernel_size=(3, 3), stride=(1, 1), padding=(1, 1), bias=False)\n",
       "        (4): BatchNorm2d(256, eps=1e-05, momentum=0.1, affine=True, track_running_stats=True)\n",
       "        (5): ReLU(inplace=True)\n",
       "      )\n",
       "    )\n",
       "  )\n",
       "  (up2): Up(\n",
       "    (up): Upsample(scale_factor=2.0, mode=bilinear)\n",
       "    (conv): DoubleConv(\n",
       "      (double_conv): Sequential(\n",
       "        (0): Conv2d(512, 256, kernel_size=(3, 3), stride=(1, 1), padding=(1, 1), bias=False)\n",
       "        (1): BatchNorm2d(256, eps=1e-05, momentum=0.1, affine=True, track_running_stats=True)\n",
       "        (2): ReLU(inplace=True)\n",
       "        (3): Conv2d(256, 128, kernel_size=(3, 3), stride=(1, 1), padding=(1, 1), bias=False)\n",
       "        (4): BatchNorm2d(128, eps=1e-05, momentum=0.1, affine=True, track_running_stats=True)\n",
       "        (5): ReLU(inplace=True)\n",
       "      )\n",
       "    )\n",
       "  )\n",
       "  (up3): Up(\n",
       "    (up): Upsample(scale_factor=2.0, mode=bilinear)\n",
       "    (conv): DoubleConv(\n",
       "      (double_conv): Sequential(\n",
       "        (0): Conv2d(256, 128, kernel_size=(3, 3), stride=(1, 1), padding=(1, 1), bias=False)\n",
       "        (1): BatchNorm2d(128, eps=1e-05, momentum=0.1, affine=True, track_running_stats=True)\n",
       "        (2): ReLU(inplace=True)\n",
       "        (3): Conv2d(128, 64, kernel_size=(3, 3), stride=(1, 1), padding=(1, 1), bias=False)\n",
       "        (4): BatchNorm2d(64, eps=1e-05, momentum=0.1, affine=True, track_running_stats=True)\n",
       "        (5): ReLU(inplace=True)\n",
       "      )\n",
       "    )\n",
       "  )\n",
       "  (up4): Up(\n",
       "    (up): Upsample(scale_factor=2.0, mode=bilinear)\n",
       "    (conv): DoubleConv(\n",
       "      (double_conv): Sequential(\n",
       "        (0): Conv2d(128, 64, kernel_size=(3, 3), stride=(1, 1), padding=(1, 1), bias=False)\n",
       "        (1): BatchNorm2d(64, eps=1e-05, momentum=0.1, affine=True, track_running_stats=True)\n",
       "        (2): ReLU(inplace=True)\n",
       "        (3): Conv2d(64, 64, kernel_size=(3, 3), stride=(1, 1), padding=(1, 1), bias=False)\n",
       "        (4): BatchNorm2d(64, eps=1e-05, momentum=0.1, affine=True, track_running_stats=True)\n",
       "        (5): ReLU(inplace=True)\n",
       "      )\n",
       "    )\n",
       "  )\n",
       "  (outc): OutConv(\n",
       "    (conv): Conv2d(64, 1, kernel_size=(1, 1), stride=(1, 1))\n",
       "  )\n",
       ")"
      ]
     },
     "execution_count": 5,
     "metadata": {},
     "output_type": "execute_result"
    }
   ],
   "source": [
    "MODEL_PATH = \"../savedModels/unet-experiment-2/model-UNet-bestLoss-Rank-0.weights\"\n",
    "model = UNet(2, 1, True)\n",
    "\n",
    "#https://discuss.pytorch.org/t/solved-keyerror-unexpected-key-module-encoder-embedding-weight-in-state-dict/1686/2\n",
    "# original saved file with DataParallel\n",
    "state_dict = torch.load(MODEL_PATH, map_location=torch.device('cpu'))\n",
    "# create new OrderedDict that does not contain `module.`\n",
    "from collections import OrderedDict\n",
    "new_state_dict = OrderedDict()\n",
    "for k, v in state_dict.items():\n",
    "    name = k[7:] # remove `module.`\n",
    "    new_state_dict[name] = v\n",
    "# load params\n",
    "model.load_state_dict(new_state_dict)\n",
    "\n",
    "model.eval()"
   ]
  },
  {
   "cell_type": "code",
   "execution_count": 6,
   "metadata": {},
   "outputs": [],
   "source": [
    "train_loss_history = unpickle(\"../savedModels/unet-experiment-2/model-UNet-train-loss-Rank-0.history\")\n",
    "validation_loss_history = unpickle(\"../savedModels/unet-experiment-2/model-UNet-validation-loss-Rank-0.history\")"
   ]
  },
  {
   "cell_type": "code",
   "execution_count": 7,
   "metadata": {},
   "outputs": [
    {
     "data": {
      "text/plain": [
       "[<matplotlib.lines.Line2D at 0x7fe21d2d2da0>]"
      ]
     },
     "execution_count": 7,
     "metadata": {},
     "output_type": "execute_result"
    },
    {
     "data": {
      "image/png": "[encoded data removed]",
      "text/plain": [
       "<Figure size 640x480 with 1 Axes>"
      ]
     },
     "metadata": {},
     "output_type": "display_data"
    }
   ],
   "source": [
    "plt.plot(train_loss_history, linestyle=\"solid\")\n",
    "plt.plot(validation_loss_history, linestyle=\"solid\")"
   ]
  },
  {
   "cell_type": "code",
   "execution_count": 8,
   "metadata": {},
   "outputs": [],
   "source": [
    "train_loss_history = unpickle(\"../savedModels/unet-experiment-2/model-UNet-train-loss-Rank-1.history\")\n",
    "validation_loss_history = unpickle(\"../savedModels/unet-experiment-2/model-UNet-validation-loss-Rank-1.history\")"
   ]
  },
  {
   "cell_type": "code",
   "execution_count": 9,
   "metadata": {},
   "outputs": [
    {
     "data": {
      "text/plain": [
       "[<matplotlib.lines.Line2D at 0x7fe1fd7aa560>]"
      ]
     },
     "execution_count": 9,
     "metadata": {},
     "output_type": "execute_result"
    },
    {
     "data": {
      "image/png": "[encoded data removed]",
      "text/plain": [
       "<Figure size 640x480 with 1 Axes>"
      ]
     },
     "metadata": {},
     "output_type": "display_data"
    }
   ],
   "source": [
    "plt.plot(train_loss_history, linestyle=\"solid\")\n",
    "plt.plot(validation_loss_history, linestyle=\"solid\")"
   ]
  },
  {
   "cell_type": "markdown",
   "metadata": {},
   "source": [
    "# Testing the loaded in model"
   ]
  },
  {
   "cell_type": "code",
   "execution_count": 10,
   "metadata": {},
   "outputs": [],
   "source": [
    "from sklearn.metrics import confusion_matrix\n",
    "from sklearn.metrics import precision_recall_fscore_support\n",
    "\n",
    "def test_model(test_loader, model):   \n",
    "    total = 0\n",
    "    correct = 0\n",
    "    incorrect = 0\n",
    "    \n",
    "    y_pred = []\n",
    "    y_true = []\n",
    "    \n",
    "    model.eval()\n",
    "    \n",
    "    with torch.no_grad():\n",
    "        \n",
    "        for i, (batch_inputs, batch_labels) in enumerate(test_loader):\n",
    "            out = model(batch_inputs)\n",
    "            \n",
    "            targets = torch.flatten(batch_labels)\n",
    "            out = torch.flatten(out)\n",
    "            \n",
    "            fire_predictions = torch.round(torch.sigmoid(out))\n",
    "            \n",
    "            y_pred.extend(fire_predictions)\n",
    "            y_true.extend(targets)\n",
    "            \n",
    "            correct += torch.sum(fire_predictions == targets)\n",
    "            incorrect += torch.sum(fire_predictions != targets)\n",
    "            \n",
    "            total += len(targets)\n",
    "    \n",
    "    accuracy = 100 * correct/total\n",
    "    print(f\"Total = {total}\")\n",
    "    print(f\"This should match the total: {correct + incorrect}\")\n",
    "    print(f\"Total correct = {correct}\")\n",
    "    print(f\"Total incorrect = {incorrect}\")\n",
    "    print(f\"Overall accuracy: {accuracy}\")\n",
    "    \n",
    "    print(\"\\nConfusion Matrix:\")\n",
    "    print(confusion_matrix(y_true, y_pred))\n",
    "    \n",
    "    print(\"\\nPrecision, Recall, Fscore, Support:\")\n",
    "    print(np.vstack(precision_recall_fscore_support(y_true, y_pred, average=None, labels=[0, 1])))"
   ]
  },
  {
   "cell_type": "code",
   "execution_count": 11,
   "metadata": {},
   "outputs": [
    {
     "name": "stdout",
     "output_type": "stream",
     "text": [
      "Total = 1411072\n",
      "This should match the total: 1411072\n",
      "Total correct = 1086083\n",
      "Total incorrect = 324989\n",
      "Overall accuracy: 76.9686508178711\n",
      "\n",
      "Confusion Matrix:\n",
      "[[1053029  315079]\n",
      " [   9910   33054]]\n",
      "\n",
      "Precision, Recall, Fscore, Support:\n",
      "[[9.90676793e-01 9.49464716e-02]\n",
      " [7.69697275e-01 7.69341775e-01]\n",
      " [8.66317270e-01 1.69032235e-01]\n",
      " [1.36810800e+06 4.29640000e+04]]\n"
     ]
    }
   ],
   "source": [
    "test_model(test_loader, model)"
   ]
  },
  {
   "cell_type": "markdown",
   "metadata": {},
   "source": [
    "# Plotting the loaded in model"
   ]
  },
  {
   "cell_type": "code",
   "execution_count": 12,
   "metadata": {},
   "outputs": [],
   "source": [
    "TITLES = [\n",
    "    'Elevation',\n",
    "    'Wind\\ndirection',\n",
    "    'Wind\\nvelocity',\n",
    "    'Min\\ntemp',\n",
    "    'Max\\ntemp',\n",
    "    'Humidity',\n",
    "    'Precip',\n",
    "    'Drought',\n",
    "    'Vegetation',\n",
    "    'Population\\ndensity',\n",
    "    'Energy\\nrelease\\ncomponent',\n",
    "    'Previous\\nfire\\nmask',\n",
    "    'Fire\\nmask',\n",
    "    'Predicted\\nfire\\nmask'\n",
    "]\n",
    "\n",
    "def plot_5_predictions(loader, model, offset, titles):\n",
    "    with torch.no_grad():\n",
    "        batch = next(iter(loader))\n",
    "        out = model(batch[0])\n",
    "        fire_predictions = torch.squeeze(torch.round(torch.sigmoid(out)), dim=1).numpy()\n",
    "        \n",
    "        print(fire_predictions.shape)\n",
    "    \n",
    "        n_rows = 5\n",
    "        n_features = batch[0].shape[1]\n",
    "    \n",
    "        CMAP = colors.ListedColormap(['black', 'silver', 'orangered'])\n",
    "        BOUNDS = [-1, -0.1, 0.1, 1]\n",
    "        NORM = colors.BoundaryNorm(BOUNDS, CMAP.N)\n",
    "    \n",
    "        fig = plt.figure(figsize=(15,6.5))\n",
    "    \n",
    "    for i in range(n_rows):\n",
    "        for j in range(n_features + 2):\n",
    "            plt.subplot(n_rows, n_features + 2, i * (n_features + 2) + j + 1)\n",
    "            if i == 0:\n",
    "                plt.title(titles[j], fontsize=13)\n",
    "            if j < n_features - 1:\n",
    "                plt.imshow(batch[0][i+offset, j, :, :], cmap='viridis')\n",
    "            if j == n_features - 1:\n",
    "                plt.imshow(batch[0][i+offset, -1, :, :], cmap=CMAP, norm=NORM)\n",
    "            if j == n_features:\n",
    "                plt.imshow(batch[1][i+offset, 0, :, :], cmap=CMAP, norm=NORM)\n",
    "            if j > n_features:\n",
    "                plt.imshow(fire_predictions[i+offset], cmap=CMAP, norm=NORM)\n",
    "            plt.axis('off')\n",
    "    plt.tight_layout()\n",
    "    "
   ]
  },
  {
   "cell_type": "code",
   "execution_count": 16,
   "metadata": {},
   "outputs": [
    {
     "name": "stdout",
     "output_type": "stream",
     "text": [
      "(100, 32, 32)\n"
     ]
    },
    {
     "data": {
      "image/png": "[encoded data removed]",
      "text/plain": [
       "<Figure size 1500x650 with 20 Axes>"
      ]
     },
     "metadata": {},
     "output_type": "display_data"
    }
   ],
   "source": [
    "test_titles = [\"Elevation\", \"Previous\\nfire\\nmask\", \"Fire\\nmask\", \"Predicted\\nfire\\mask\"]\n",
    "\n",
    "plot_5_predictions(test_loader, model, offset=50, titles=test_titles)"
   ]
  },
  {
   "cell_type": "code",
   "execution_count": null,
   "metadata": {},
   "outputs": [],
   "source": []
  }
 ],
 "metadata": {
  "kernelspec": {
   "display_name": "Python 3 (ipykernel)",
   "language": "python",
   "name": "python3"
  },
  "language_info": {
   "codemirror_mode": {
    "name": "ipython",
    "version": 3
   },
   "file_extension": ".py",
   "mimetype": "text/x-python",
   "name": "python",
   "nbconvert_exporter": "python",
   "pygments_lexer": "ipython3",
   "version": "3.10.9"
  }
 },
 "nbformat": 4,
 "nbformat_minor": 4
}
